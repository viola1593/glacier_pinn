{
 "cells": [
  {
   "cell_type": "markdown",
   "metadata": {},
   "source": [
    "Developped by building up on https://github.com/OGGM/databases-links"
   ]
  },
  {
   "cell_type": "code",
   "execution_count": 1,
   "metadata": {},
   "outputs": [
    {
     "name": "stderr",
     "output_type": "stream",
     "text": [
      "2024-05-02 17:52:32: oggm.cfg: Reading default parameters from the OGGM `params.cfg` configuration file.\n",
      "2024-05-02 17:52:32: oggm.cfg: Multiprocessing switched OFF according to the parameter file.\n",
      "2024-05-02 17:52:32: oggm.cfg: Multiprocessing: using all available processors (N=12)\n",
      "2024-05-02 17:52:36: oggm.cfg: PARAMS['border'] changed from `80` to `10`.\n",
      "2024-05-02 17:52:36: oggm.cfg: Multiprocessing switched ON after user settings.\n"
     ]
    }
   ],
   "source": [
    "import cartopy\n",
    "import cartopy.crs as ccrs\n",
    "import geopandas as gpd\n",
    "import matplotlib.pyplot as plt\n",
    "import numpy as np\n",
    "import pandas as pd\n",
    "import shapely.geometry as shpg\n",
    "\n",
    "\n",
    "# imports for oggm\n",
    "from oggm import utils, cfg\n",
    "\n",
    "cfg.initialize(logging_level='WARNING')\n",
    "cfg.PARAMS['border'] = 10\n",
    "cfg.PARAMS['use_multiprocessing'] = True "
   ]
  },
  {
   "cell_type": "code",
   "execution_count": 3,
   "metadata": {},
   "outputs": [],
   "source": [
    "def plot_glaciers_map_with_RGI(glacier_df, rgi_shapefile):\n",
    "    f = plt.figure(figsize=(14, 8))\n",
    "    ax = plt.axes(projection=ccrs.PlateCarree())\n",
    "    # mark a known place to help us geo-locate ourselves \n",
    "    rgi_shapefile.geometry.plot(ax=ax)\n",
    "    ax.plot(glacier_df.POINT_LON.values, glacier_df.POINT_LAT.values, 'bo', markersize=4, transform=ccrs.Geodetic())\n",
    "    \n",
    "    ax.add_feature(cartopy.feature.COASTLINE, edgecolor='gray');\n",
    "    ax.set_extent([-180, 180, -90, 90])\n",
    "    return f, ax\n",
    "\n",
    "def haversine(lon1, lat1, lon2, lat2):\n",
    "    \"\"\"\n",
    "    Calculate the great circle distance between one point \n",
    "    \n",
    "    on the earth and an array of points (specified in decimal degrees)\n",
    "    \"\"\"\n",
    "    \n",
    "    # convert decimal degrees to radians \n",
    "    lon1, lat1, lon2, lat2 = map(np.radians, [lon1, lat1, lon2, lat2])\n",
    "\n",
    "    # haversine formula \n",
    "    dlon = lon2 - lon1\n",
    "    dlat = lat2 - lat1\n",
    "    a = np.sin(dlat/2)**2 + np.cos(lat1) * np.cos(lat2) * np.sin(dlon/2)**2\n",
    "    c = 2 * np.arcsin(np.sqrt(a)) \n",
    "    r = 6371000 # Radius of earth in meters\n",
    "    return c * r\n",
    "\n",
    "\n",
    "def find_RGI(row, rgi_df):\n",
    "    lon, lat = row.POINT_LON, row.POINT_LAT\n",
    "    gp = shpg.Point(lon, lat)\n",
    "\n",
    "    # check if glacier is in the same rgi outline as the preceding glacier\n",
    "    if 'RGI_ID' in row and pd.notnull(row['RGI_ID']):\n",
    "        last_RGI_ID_assigend=row['RGI_ID']\n",
    "        s=rgi_df[rgi_df['RGIId']==last_RGI_ID_assigend]\n",
    "        if  len(s.index)!=0 and s.iloc[0].geometry.buffer(0).contains(gp):\n",
    "            return last_RGI_ID_assigend\n",
    "        else: \n",
    "            return find_glacierRGI_in_region(gp, lon, lat, rgi_df)    \n",
    "    else:  \n",
    "        return find_glacierRGI_in_region(gp, lon, lat, rgi_df) \n",
    "\n",
    "\n",
    "def find_RGI_IDs_for_measurements(glacier_df, regions=[]):\n",
    "    found = []\n",
    "    gdt_ids = []\n",
    "    if not regions:\n",
    "        regions = set()\n",
    "        for n in set(glacier_df.RGI_Region.values):\n",
    "            regions.add(str(n).zfill(2)) #set of regions we have to search through to find the glaciers in glacier_df\n",
    "         \n",
    "    for region in regions:\n",
    "        print('region searched through atm: ', region)\n",
    "        #get the rgi file for the region\n",
    "        rgi_shp = utils.get_rgi_region_file(region, version='62') # region files are saved in the oggm directory\n",
    "        rgi_df = gpd.read_file(rgi_shp)\n",
    "        # subset of glaciers in the region that we want to find the rgi_id for\n",
    "        glacier_sub = glacier_df.loc[glacier_df.RGI_Region == int(region)]\n",
    "        # go through subset\n",
    "        \n",
    "        for i, row in glacier_sub.iterrows():\n",
    "            gdt_ids.append(i)\n",
    "            lon, lat = row.POINT_LON, row.POINT_LAT\n",
    "            gp = shpg.Point(lon, lat)\n",
    "\n",
    "            # check if glacier is in the same rgi outline as the preceding glacier\n",
    "            if found: \n",
    "                last_RGI_ID_assigend=found[-1]\n",
    "                s=rgi_df[rgi_df['RGIId']==last_RGI_ID_assigend]\n",
    "                if  len(s.index)!=0 and s.iloc[0].geometry.buffer(0).contains(gp):\n",
    "                    found.append(last_RGI_ID_assigend)\n",
    "                else: found.append(find_glacierRGI_in_region(gp, lon, lat, rgi_df))    \n",
    "            else:  \n",
    "                found.append(find_glacierRGI_in_region(gp, lon, lat, rgi_df))      \n",
    "\n",
    "    found_s = pd.Series(found, index=gdt_ids)\n",
    "    glacier_df['RGI_ID'] = found_s\n",
    "    return glacier_df\n",
    "\n",
    "def find_glacierRGI_in_region(glacierpoint, lon, lat, rgi_df):\n",
    "    #calculate distance to all glaciers in region (would be better if it was subregion only)\n",
    "    rgi_df['DIST'] = haversine(lon, lat, rgi_df.CenLon.values, rgi_df.CenLat.values)\n",
    "    sortrgi = rgi_df.sort_values(by='DIST')\n",
    "    \n",
    "    for potential_glacier_id in range(11):\n",
    "        s = sortrgi.iloc[potential_glacier_id]\n",
    "        if s.geometry.buffer(0).contains(glacierpoint): #is position of glacier within outline of RGI Glacier?\n",
    "            return sortrgi.iloc[potential_glacier_id].RGIId\n",
    "            \n",
    "    # give up and set None if glacier not wihtin the outlines of the 10 nearest glaciers\n",
    "    return None\n",
    "    "
   ]
  },
  {
   "cell_type": "code",
   "execution_count": 5,
   "metadata": {},
   "outputs": [],
   "source": [
    "\n",
    "cfg.PATHS['working_dir']  = 'links' \n",
    "\n",
    "\n",
    "gtd_TTT = pd.read_csv('glathida-3.1.0/data/TTT.csv', header=0, encoding='iso8859_15', sep=',', low_memory=False) # read the GlaThiDa data\n",
    "gtd_TTT['GlaThiDa_ID']=gtd_TTT.GlaThiDa_ID.values.astype(int)\n",
    "\n"
   ]
  },
  {
   "attachments": {},
   "cell_type": "markdown",
   "metadata": {},
   "source": [
    "Take a quick look at all the files we just opened"
   ]
  },
  {
   "cell_type": "code",
   "execution_count": 6,
   "metadata": {},
   "outputs": [
    {
     "data": {
      "text/html": [
       "<div>\n",
       "<style scoped>\n",
       "    .dataframe tbody tr th:only-of-type {\n",
       "        vertical-align: middle;\n",
       "    }\n",
       "\n",
       "    .dataframe tbody tr th {\n",
       "        vertical-align: top;\n",
       "    }\n",
       "\n",
       "    .dataframe thead th {\n",
       "        text-align: right;\n",
       "    }\n",
       "</style>\n",
       "<table border=\"1\" class=\"dataframe\">\n",
       "  <thead>\n",
       "    <tr style=\"text-align: right;\">\n",
       "      <th></th>\n",
       "      <th>GlaThiDa_ID</th>\n",
       "      <th>POLITICAL_UNIT</th>\n",
       "      <th>GLACIER_NAME</th>\n",
       "      <th>SURVEY_DATE</th>\n",
       "      <th>PROFILE_ID</th>\n",
       "      <th>POINT_ID</th>\n",
       "      <th>POINT_LAT</th>\n",
       "      <th>POINT_LON</th>\n",
       "      <th>ELEVATION</th>\n",
       "      <th>THICKNESS</th>\n",
       "      <th>THICKNESS_UNCERTAINTY</th>\n",
       "      <th>DATA_FLAG</th>\n",
       "      <th>REMARKS</th>\n",
       "    </tr>\n",
       "  </thead>\n",
       "  <tbody>\n",
       "    <tr>\n",
       "      <th>0</th>\n",
       "      <td>33</td>\n",
       "      <td>US</td>\n",
       "      <td>EASTON</td>\n",
       "      <td>19929999.0</td>\n",
       "      <td>NaN</td>\n",
       "      <td>1</td>\n",
       "      <td>48.767380</td>\n",
       "      <td>-121.819644</td>\n",
       "      <td>2962.0</td>\n",
       "      <td>0</td>\n",
       "      <td>NaN</td>\n",
       "      <td>NaN</td>\n",
       "      <td>NaN</td>\n",
       "    </tr>\n",
       "    <tr>\n",
       "      <th>1</th>\n",
       "      <td>33</td>\n",
       "      <td>US</td>\n",
       "      <td>EASTON</td>\n",
       "      <td>19929999.0</td>\n",
       "      <td>NaN</td>\n",
       "      <td>2</td>\n",
       "      <td>48.764904</td>\n",
       "      <td>-121.821909</td>\n",
       "      <td>2813.0</td>\n",
       "      <td>29</td>\n",
       "      <td>NaN</td>\n",
       "      <td>NaN</td>\n",
       "      <td>NaN</td>\n",
       "    </tr>\n",
       "    <tr>\n",
       "      <th>2</th>\n",
       "      <td>33</td>\n",
       "      <td>US</td>\n",
       "      <td>EASTON</td>\n",
       "      <td>19929999.0</td>\n",
       "      <td>NaN</td>\n",
       "      <td>3</td>\n",
       "      <td>48.761662</td>\n",
       "      <td>-121.825264</td>\n",
       "      <td>2598.0</td>\n",
       "      <td>41</td>\n",
       "      <td>NaN</td>\n",
       "      <td>NaN</td>\n",
       "      <td>NaN</td>\n",
       "    </tr>\n",
       "    <tr>\n",
       "      <th>3</th>\n",
       "      <td>33</td>\n",
       "      <td>US</td>\n",
       "      <td>EASTON</td>\n",
       "      <td>19929999.0</td>\n",
       "      <td>NaN</td>\n",
       "      <td>4</td>\n",
       "      <td>48.757063</td>\n",
       "      <td>-121.829107</td>\n",
       "      <td>2383.0</td>\n",
       "      <td>71</td>\n",
       "      <td>NaN</td>\n",
       "      <td>NaN</td>\n",
       "      <td>NaN</td>\n",
       "    </tr>\n",
       "    <tr>\n",
       "      <th>4</th>\n",
       "      <td>33</td>\n",
       "      <td>US</td>\n",
       "      <td>EASTON</td>\n",
       "      <td>19929999.0</td>\n",
       "      <td>NaN</td>\n",
       "      <td>5</td>\n",
       "      <td>48.753715</td>\n",
       "      <td>-121.832006</td>\n",
       "      <td>2284.0</td>\n",
       "      <td>82</td>\n",
       "      <td>NaN</td>\n",
       "      <td>NaN</td>\n",
       "      <td>NaN</td>\n",
       "    </tr>\n",
       "  </tbody>\n",
       "</table>\n",
       "</div>"
      ],
      "text/plain": [
       "   GlaThiDa_ID POLITICAL_UNIT GLACIER_NAME  SURVEY_DATE PROFILE_ID POINT_ID  \\\n",
       "0           33             US       EASTON   19929999.0        NaN        1   \n",
       "1           33             US       EASTON   19929999.0        NaN        2   \n",
       "2           33             US       EASTON   19929999.0        NaN        3   \n",
       "3           33             US       EASTON   19929999.0        NaN        4   \n",
       "4           33             US       EASTON   19929999.0        NaN        5   \n",
       "\n",
       "   POINT_LAT   POINT_LON  ELEVATION  THICKNESS  THICKNESS_UNCERTAINTY  \\\n",
       "0  48.767380 -121.819644     2962.0          0                    NaN   \n",
       "1  48.764904 -121.821909     2813.0         29                    NaN   \n",
       "2  48.761662 -121.825264     2598.0         41                    NaN   \n",
       "3  48.757063 -121.829107     2383.0         71                    NaN   \n",
       "4  48.753715 -121.832006     2284.0         82                    NaN   \n",
       "\n",
       "   DATA_FLAG REMARKS  \n",
       "0        NaN     NaN  \n",
       "1        NaN     NaN  \n",
       "2        NaN     NaN  \n",
       "3        NaN     NaN  \n",
       "4        NaN     NaN  "
      ]
     },
     "execution_count": 6,
     "metadata": {},
     "output_type": "execute_result"
    }
   ],
   "source": [
    "gtd_TTT.head()"
   ]
  },
  {
   "attachments": {},
   "cell_type": "markdown",
   "metadata": {},
   "source": [
    "Prepare GlaThiDa measurements for linking, kicking out measurements we do not need to have fewer operations to do: Only take points with measurements from Svalbard and Jan Mayen"
   ]
  },
  {
   "cell_type": "code",
   "execution_count": 14,
   "metadata": {},
   "outputs": [
    {
     "name": "stderr",
     "output_type": "stream",
     "text": [
      "/tmp/ipykernel_11863/2963181567.py:2: SettingWithCopyWarning: \n",
      "A value is trying to be set on a copy of a slice from a DataFrame\n",
      "\n",
      "See the caveats in the documentation: https://pandas.pydata.org/pandas-docs/stable/user_guide/indexing.html#returning-a-view-versus-a-copy\n",
      "  prepro_gtd.dropna(subset=['POINT_LAT', 'POINT_LON'], inplace=True) # only measurements where coordinates are known\n"
     ]
    }
   ],
   "source": [
    "prepro_gtd = gtd_TTT[gtd_TTT.POLITICAL_UNIT=='SJ'] # only svalbard and jan mayen\n",
    "prepro_gtd.dropna(subset=['POINT_LAT', 'POINT_LON'], inplace=True) # only measurements where coordinates are known\n"
   ]
  },
  {
   "attachments": {},
   "cell_type": "markdown",
   "metadata": {},
   "source": [
    "Plot map of glaciers' positions"
   ]
  },
  {
   "cell_type": "code",
   "execution_count": 15,
   "metadata": {},
   "outputs": [
    {
     "data": {
      "text/plain": [
       "(<Figure size 1400x800 with 1 Axes>, <GeoAxesSubplot:>)"
      ]
     },
     "execution_count": 15,
     "metadata": {},
     "output_type": "execute_result"
    },
    {
     "data": {
      "image/png": "[encoded data removed]",
      "text/plain": [
       "<Figure size 1400x800 with 1 Axes>"
      ]
     },
     "metadata": {},
     "output_type": "display_data"
    }
   ],
   "source": [
    "rgi_shp_path = utils.get_rgi_region_file('07', version='62') # region files are saved in the oggm directory\n",
    "rgi_shapefile = gpd.read_file(rgi_shp_path)\n",
    "plot_glaciers_map_with_RGI(prepro_gtd, rgi_shapefile)"
   ]
  },
  {
   "cell_type": "code",
   "execution_count": 19,
   "metadata": {},
   "outputs": [
    {
     "name": "stdout",
     "output_type": "stream",
     "text": [
      "number of measurements: 12563304\n"
     ]
    },
    {
     "data": {
      "text/html": [
       "<div>\n",
       "<style scoped>\n",
       "    .dataframe tbody tr th:only-of-type {\n",
       "        vertical-align: middle;\n",
       "    }\n",
       "\n",
       "    .dataframe tbody tr th {\n",
       "        vertical-align: top;\n",
       "    }\n",
       "\n",
       "    .dataframe thead th {\n",
       "        text-align: right;\n",
       "    }\n",
       "</style>\n",
       "<table border=\"1\" class=\"dataframe\">\n",
       "  <thead>\n",
       "    <tr style=\"text-align: right;\">\n",
       "      <th></th>\n",
       "      <th>GlaThiDa_ID</th>\n",
       "      <th>POLITICAL_UNIT</th>\n",
       "      <th>GLACIER_NAME</th>\n",
       "      <th>SURVEY_DATE</th>\n",
       "      <th>PROFILE_ID</th>\n",
       "      <th>POINT_ID</th>\n",
       "      <th>POINT_LAT</th>\n",
       "      <th>POINT_LON</th>\n",
       "      <th>ELEVATION</th>\n",
       "      <th>THICKNESS</th>\n",
       "      <th>THICKNESS_UNCERTAINTY</th>\n",
       "      <th>DATA_FLAG</th>\n",
       "      <th>REMARKS</th>\n",
       "    </tr>\n",
       "  </thead>\n",
       "  <tbody>\n",
       "    <tr>\n",
       "      <th>52401</th>\n",
       "      <td>2075</td>\n",
       "      <td>SJ</td>\n",
       "      <td>ELFENBEINBREEN</td>\n",
       "      <td>20140406.0</td>\n",
       "      <td>NaN</td>\n",
       "      <td>1</td>\n",
       "      <td>78.142067</td>\n",
       "      <td>18.088784</td>\n",
       "      <td>91.0</td>\n",
       "      <td>48</td>\n",
       "      <td>3.0</td>\n",
       "      <td>NaN</td>\n",
       "      <td>NaN</td>\n",
       "    </tr>\n",
       "    <tr>\n",
       "      <th>52402</th>\n",
       "      <td>2075</td>\n",
       "      <td>SJ</td>\n",
       "      <td>ELFENBEINBREEN</td>\n",
       "      <td>20140406.0</td>\n",
       "      <td>NaN</td>\n",
       "      <td>2</td>\n",
       "      <td>78.142114</td>\n",
       "      <td>18.089258</td>\n",
       "      <td>91.0</td>\n",
       "      <td>49</td>\n",
       "      <td>4.0</td>\n",
       "      <td>NaN</td>\n",
       "      <td>NaN</td>\n",
       "    </tr>\n",
       "    <tr>\n",
       "      <th>52403</th>\n",
       "      <td>2075</td>\n",
       "      <td>SJ</td>\n",
       "      <td>ELFENBEINBREEN</td>\n",
       "      <td>20140406.0</td>\n",
       "      <td>NaN</td>\n",
       "      <td>3</td>\n",
       "      <td>78.142146</td>\n",
       "      <td>18.089611</td>\n",
       "      <td>88.0</td>\n",
       "      <td>48</td>\n",
       "      <td>4.0</td>\n",
       "      <td>NaN</td>\n",
       "      <td>NaN</td>\n",
       "    </tr>\n",
       "    <tr>\n",
       "      <th>52404</th>\n",
       "      <td>2075</td>\n",
       "      <td>SJ</td>\n",
       "      <td>ELFENBEINBREEN</td>\n",
       "      <td>20140406.0</td>\n",
       "      <td>NaN</td>\n",
       "      <td>4</td>\n",
       "      <td>78.142253</td>\n",
       "      <td>18.089667</td>\n",
       "      <td>89.0</td>\n",
       "      <td>49</td>\n",
       "      <td>4.0</td>\n",
       "      <td>NaN</td>\n",
       "      <td>NaN</td>\n",
       "    </tr>\n",
       "    <tr>\n",
       "      <th>52405</th>\n",
       "      <td>2075</td>\n",
       "      <td>SJ</td>\n",
       "      <td>ELFENBEINBREEN</td>\n",
       "      <td>20140406.0</td>\n",
       "      <td>NaN</td>\n",
       "      <td>5</td>\n",
       "      <td>78.142367</td>\n",
       "      <td>18.089620</td>\n",
       "      <td>84.0</td>\n",
       "      <td>50</td>\n",
       "      <td>4.0</td>\n",
       "      <td>NaN</td>\n",
       "      <td>NaN</td>\n",
       "    </tr>\n",
       "  </tbody>\n",
       "</table>\n",
       "</div>"
      ],
      "text/plain": [
       "       GlaThiDa_ID POLITICAL_UNIT    GLACIER_NAME  SURVEY_DATE PROFILE_ID  \\\n",
       "52401         2075             SJ  ELFENBEINBREEN   20140406.0        NaN   \n",
       "52402         2075             SJ  ELFENBEINBREEN   20140406.0        NaN   \n",
       "52403         2075             SJ  ELFENBEINBREEN   20140406.0        NaN   \n",
       "52404         2075             SJ  ELFENBEINBREEN   20140406.0        NaN   \n",
       "52405         2075             SJ  ELFENBEINBREEN   20140406.0        NaN   \n",
       "\n",
       "      POINT_ID  POINT_LAT  POINT_LON  ELEVATION  THICKNESS  \\\n",
       "52401        1  78.142067  18.088784       91.0         48   \n",
       "52402        2  78.142114  18.089258       91.0         49   \n",
       "52403        3  78.142146  18.089611       88.0         48   \n",
       "52404        4  78.142253  18.089667       89.0         49   \n",
       "52405        5  78.142367  18.089620       84.0         50   \n",
       "\n",
       "       THICKNESS_UNCERTAINTY  DATA_FLAG REMARKS  \n",
       "52401                    3.0        NaN     NaN  \n",
       "52402                    4.0        NaN     NaN  \n",
       "52403                    4.0        NaN     NaN  \n",
       "52404                    4.0        NaN     NaN  \n",
       "52405                    4.0        NaN     NaN  "
      ]
     },
     "execution_count": 19,
     "metadata": {},
     "output_type": "execute_result"
    }
   ],
   "source": [
    "print('number of measurements:', prepro_gtd.size)\n",
    "prepro_gtd.head()\n"
   ]
  },
  {
   "cell_type": "code",
   "execution_count": 20,
   "metadata": {},
   "outputs": [
    {
     "name": "stderr",
     "output_type": "stream",
     "text": [
      "/tmp/ipykernel_11863/3526022666.py:1: SettingWithCopyWarning: \n",
      "A value is trying to be set on a copy of a slice from a DataFrame.\n",
      "Try using .loc[row_indexer,col_indexer] = value instead\n",
      "\n",
      "See the caveats in the documentation: https://pandas.pydata.org/pandas-docs/stable/user_guide/indexing.html#returning-a-view-versus-a-copy\n",
      "  prepro_gtd['RGI_Region']=7 #set region to 7 because we just kicked out all the other measurements\n"
     ]
    },
    {
     "name": "stdout",
     "output_type": "stream",
     "text": [
      "region searched through atm:  07\n"
     ]
    },
    {
     "name": "stderr",
     "output_type": "stream",
     "text": [
      "/tmp/ipykernel_11863/3471926805.py:126: SettingWithCopyWarning: \n",
      "A value is trying to be set on a copy of a slice from a DataFrame.\n",
      "Try using .loc[row_indexer,col_indexer] = value instead\n",
      "\n",
      "See the caveats in the documentation: https://pandas.pydata.org/pandas-docs/stable/user_guide/indexing.html#returning-a-view-versus-a-copy\n",
      "  glacier_df['RGI_ID'] = found_s\n"
     ]
    }
   ],
   "source": [
    "prepro_gtd['RGI_Region']=7 #set region to 7 because we just kicked out all the other measurements\n",
    "prepro_gtd_with_RGI_reg7 = find_RGI_IDs_for_measurements(prepro_gtd, ['07']) #find the RGI_IDs for the glaciers in the dataframe"
   ]
  },
  {
   "attachments": {},
   "cell_type": "markdown",
   "metadata": {},
   "source": [
    "Check on which glaciers the measurements are that could not be conneted to RGI and how many are there? "
   ]
  },
  {
   "cell_type": "code",
   "execution_count": 21,
   "metadata": {},
   "outputs": [
    {
     "name": "stdout",
     "output_type": "stream",
     "text": [
      "Glacier name   missing measurements   total num measurements  \n",
      "ALDEGONDABREEN 7 2018\n",
      "ARIEBREEN 1 436\n",
      "AUSTRE DAHLFONNA 35 3512\n",
      "BAALSRUDBREEN 14 2731\n",
      "CHYDENIUSBREEN 38 149\n",
      "ELFENBEINBREEN 15 6835\n",
      "FRIDTJOVBREEN 248 23943\n",
      "INFANTFONNA 98 4885\n",
      "KONGSBREEN 17 103096\n",
      "KONGSVEGEN 3 68203\n",
      "KRONEBREEN 123 47277\n",
      "LIESTOELBREEN 29 618\n",
      "MONACOBREEN 48 1241\n",
      "NATHORSTBREEN 21 46\n",
      "NEGRIBREEN 127 1373\n",
      "OSLOBREEN 204 1503\n",
      "PASSFJELLBREEN E 14 4479\n",
      "PASSFJELLBREEN W 111 2908\n",
      "PAULABREEN 1 452\n",
      "PENCKBREEN 17 46\n",
      "RAUDFJORDBREEN 56 85\n",
      "SVEABREEN 146 306\n",
      "TUNGEBREEN 13 3304\n",
      "VESTRE DAHLFONNA 1 3472\n",
      "VETERANEN 141 1630\n"
     ]
    }
   ],
   "source": [
    "grouped = prepro_gtd_with_RGI_reg7[prepro_gtd_with_RGI_reg7.RGI_ID.isna()].groupby('GLACIER_NAME')\n",
    "print('Glacier name  ', 'missing measurements  ', 'total num measurements  ')\n",
    "for i, glacier in grouped:\n",
    "    #print(i, len(glacier))\n",
    "    all = prepro_gtd_with_RGI_reg7[prepro_gtd_with_RGI_reg7.GLACIER_NAME==i]\n",
    "    print(i, len(glacier), len(all))"
   ]
  },
  {
   "cell_type": "code",
   "execution_count": 22,
   "metadata": {},
   "outputs": [
    {
     "name": "stdout",
     "output_type": "stream",
     "text": [
      "14496120\n",
      "14473200\n"
     ]
    }
   ],
   "source": [
    "print(prepro_gtd_with_RGI_reg7.size)\n",
    "prepro_gtd_with_RGI_reg7_without_nans = prepro_gtd_with_RGI_reg7.dropna(subset=['RGI_ID']) #dropping all the measurements that couldnt be assigned to a glacier\n",
    "print(prepro_gtd_with_RGI_reg7_without_nans.size)"
   ]
  },
  {
   "cell_type": "code",
   "execution_count": 24,
   "metadata": {},
   "outputs": [
    {
     "data": {
      "text/html": [
       "<div>\n",
       "<style scoped>\n",
       "    .dataframe tbody tr th:only-of-type {\n",
       "        vertical-align: middle;\n",
       "    }\n",
       "\n",
       "    .dataframe tbody tr th {\n",
       "        vertical-align: top;\n",
       "    }\n",
       "\n",
       "    .dataframe thead th {\n",
       "        text-align: right;\n",
       "    }\n",
       "</style>\n",
       "<table border=\"1\" class=\"dataframe\">\n",
       "  <thead>\n",
       "    <tr style=\"text-align: right;\">\n",
       "      <th></th>\n",
       "      <th>GlaThiDa_ID</th>\n",
       "      <th>POLITICAL_UNIT</th>\n",
       "      <th>GLACIER_NAME</th>\n",
       "      <th>SURVEY_DATE</th>\n",
       "      <th>PROFILE_ID</th>\n",
       "      <th>POINT_ID</th>\n",
       "      <th>POINT_LAT</th>\n",
       "      <th>POINT_LON</th>\n",
       "      <th>ELEVATION</th>\n",
       "      <th>THICKNESS</th>\n",
       "      <th>THICKNESS_UNCERTAINTY</th>\n",
       "      <th>DATA_FLAG</th>\n",
       "      <th>REMARKS</th>\n",
       "      <th>RGI_Region</th>\n",
       "      <th>RGI_ID</th>\n",
       "    </tr>\n",
       "  </thead>\n",
       "  <tbody>\n",
       "    <tr>\n",
       "      <th>52401</th>\n",
       "      <td>2075</td>\n",
       "      <td>SJ</td>\n",
       "      <td>ELFENBEINBREEN</td>\n",
       "      <td>20140406.0</td>\n",
       "      <td>NaN</td>\n",
       "      <td>1</td>\n",
       "      <td>78.142067</td>\n",
       "      <td>18.088784</td>\n",
       "      <td>91.0</td>\n",
       "      <td>48</td>\n",
       "      <td>3.0</td>\n",
       "      <td>NaN</td>\n",
       "      <td>NaN</td>\n",
       "      <td>7</td>\n",
       "      <td>RGI60-07.00428</td>\n",
       "    </tr>\n",
       "    <tr>\n",
       "      <th>52402</th>\n",
       "      <td>2075</td>\n",
       "      <td>SJ</td>\n",
       "      <td>ELFENBEINBREEN</td>\n",
       "      <td>20140406.0</td>\n",
       "      <td>NaN</td>\n",
       "      <td>2</td>\n",
       "      <td>78.142114</td>\n",
       "      <td>18.089258</td>\n",
       "      <td>91.0</td>\n",
       "      <td>49</td>\n",
       "      <td>4.0</td>\n",
       "      <td>NaN</td>\n",
       "      <td>NaN</td>\n",
       "      <td>7</td>\n",
       "      <td>RGI60-07.00428</td>\n",
       "    </tr>\n",
       "    <tr>\n",
       "      <th>52403</th>\n",
       "      <td>2075</td>\n",
       "      <td>SJ</td>\n",
       "      <td>ELFENBEINBREEN</td>\n",
       "      <td>20140406.0</td>\n",
       "      <td>NaN</td>\n",
       "      <td>3</td>\n",
       "      <td>78.142146</td>\n",
       "      <td>18.089611</td>\n",
       "      <td>88.0</td>\n",
       "      <td>48</td>\n",
       "      <td>4.0</td>\n",
       "      <td>NaN</td>\n",
       "      <td>NaN</td>\n",
       "      <td>7</td>\n",
       "      <td>RGI60-07.00428</td>\n",
       "    </tr>\n",
       "    <tr>\n",
       "      <th>52404</th>\n",
       "      <td>2075</td>\n",
       "      <td>SJ</td>\n",
       "      <td>ELFENBEINBREEN</td>\n",
       "      <td>20140406.0</td>\n",
       "      <td>NaN</td>\n",
       "      <td>4</td>\n",
       "      <td>78.142253</td>\n",
       "      <td>18.089667</td>\n",
       "      <td>89.0</td>\n",
       "      <td>49</td>\n",
       "      <td>4.0</td>\n",
       "      <td>NaN</td>\n",
       "      <td>NaN</td>\n",
       "      <td>7</td>\n",
       "      <td>RGI60-07.00428</td>\n",
       "    </tr>\n",
       "    <tr>\n",
       "      <th>52405</th>\n",
       "      <td>2075</td>\n",
       "      <td>SJ</td>\n",
       "      <td>ELFENBEINBREEN</td>\n",
       "      <td>20140406.0</td>\n",
       "      <td>NaN</td>\n",
       "      <td>5</td>\n",
       "      <td>78.142367</td>\n",
       "      <td>18.089620</td>\n",
       "      <td>84.0</td>\n",
       "      <td>50</td>\n",
       "      <td>4.0</td>\n",
       "      <td>NaN</td>\n",
       "      <td>NaN</td>\n",
       "      <td>7</td>\n",
       "      <td>RGI60-07.00428</td>\n",
       "    </tr>\n",
       "  </tbody>\n",
       "</table>\n",
       "</div>"
      ],
      "text/plain": [
       "       GlaThiDa_ID POLITICAL_UNIT    GLACIER_NAME  SURVEY_DATE PROFILE_ID  \\\n",
       "52401         2075             SJ  ELFENBEINBREEN   20140406.0        NaN   \n",
       "52402         2075             SJ  ELFENBEINBREEN   20140406.0        NaN   \n",
       "52403         2075             SJ  ELFENBEINBREEN   20140406.0        NaN   \n",
       "52404         2075             SJ  ELFENBEINBREEN   20140406.0        NaN   \n",
       "52405         2075             SJ  ELFENBEINBREEN   20140406.0        NaN   \n",
       "\n",
       "      POINT_ID  POINT_LAT  POINT_LON  ELEVATION  THICKNESS  \\\n",
       "52401        1  78.142067  18.088784       91.0         48   \n",
       "52402        2  78.142114  18.089258       91.0         49   \n",
       "52403        3  78.142146  18.089611       88.0         48   \n",
       "52404        4  78.142253  18.089667       89.0         49   \n",
       "52405        5  78.142367  18.089620       84.0         50   \n",
       "\n",
       "       THICKNESS_UNCERTAINTY  DATA_FLAG REMARKS  RGI_Region          RGI_ID  \n",
       "52401                    3.0        NaN     NaN           7  RGI60-07.00428  \n",
       "52402                    4.0        NaN     NaN           7  RGI60-07.00428  \n",
       "52403                    4.0        NaN     NaN           7  RGI60-07.00428  \n",
       "52404                    4.0        NaN     NaN           7  RGI60-07.00428  \n",
       "52405                    4.0        NaN     NaN           7  RGI60-07.00428  "
      ]
     },
     "execution_count": 24,
     "metadata": {},
     "output_type": "execute_result"
    }
   ],
   "source": [
    "prepro_gtd_with_RGI_reg7_without_nans.head()"
   ]
  },
  {
   "cell_type": "code",
   "execution_count": 28,
   "metadata": {},
   "outputs": [
    {
     "data": {
      "text/plain": [
       "207"
      ]
     },
     "execution_count": 28,
     "metadata": {},
     "output_type": "execute_result"
    }
   ],
   "source": [
    "len(prepro_gtd_with_RGI_reg7_without_nans.RGI_ID.unique())\n"
   ]
  },
  {
   "cell_type": "markdown",
   "metadata": {},
   "source": [
    "We got measurements on 207 glaciers, now how are the measurements distributed among those glaciers?"
   ]
  },
  {
   "cell_type": "code",
   "execution_count": 29,
   "metadata": {},
   "outputs": [
    {
     "data": {
      "text/plain": [
       "<AxesSubplot:>"
      ]
     },
     "execution_count": 29,
     "metadata": {},
     "output_type": "execute_result"
    },
    {
     "data": {
      "image/png": "[encoded data removed]",
      "text/plain": [
       "<Figure size 640x480 with 1 Axes>"
      ]
     },
     "metadata": {},
     "output_type": "display_data"
    }
   ],
   "source": [
    "\n",
    "prepro_gtd_with_RGI_reg7_without_nans.RGI_ID.value_counts().hist(bins=100)"
   ]
  },
  {
   "cell_type": "code",
   "execution_count": 30,
   "metadata": {},
   "outputs": [
    {
     "data": {
      "text/plain": [
       "count             964880\n",
       "unique               207\n",
       "top       RGI60-07.01482\n",
       "freq              103078\n",
       "Name: RGI_ID, dtype: object"
      ]
     },
     "execution_count": 30,
     "metadata": {},
     "output_type": "execute_result"
    }
   ],
   "source": [
    "prepro_gtd_with_RGI_reg7_without_nans.RGI_ID.describe()"
   ]
  },
  {
   "cell_type": "markdown",
   "metadata": {},
   "source": [
    "Save the dataframe of measurements attributed to RGI IDs to csv. "
   ]
  },
  {
   "cell_type": "code",
   "execution_count": 81,
   "metadata": {},
   "outputs": [],
   "source": [
    "prepro_gtd_with_RGI_reg7_without_nans.to_csv('TTT_with_RGI07_IDs_Svalbardonly.csv')"
   ]
  }
 ],
 "metadata": {
  "kernelspec": {
   "display_name": "MB_finse_viola",
   "language": "python",
   "name": "python3"
  },
  "language_info": {
   "codemirror_mode": {
    "name": "ipython",
    "version": 3
   },
   "file_extension": ".py",
   "mimetype": "text/x-python",
   "name": "python",
   "nbconvert_exporter": "python",
   "pygments_lexer": "ipython3",
   "version": "3.10.4"
  },
  "orig_nbformat": 4,
  "vscode": {
   "interpreter": {
    "hash": "9b7cb453ae449644161d9cadfdfbf65bbc0f4ced8e608d797838906fb2d628a8"
   }
  }
 },
 "nbformat": 4,
 "nbformat_minor": 2
}
